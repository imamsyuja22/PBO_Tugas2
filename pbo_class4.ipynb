{
  "nbformat": 4,
  "nbformat_minor": 0,
  "metadata": {
    "colab": {
      "provenance": [],
      "authorship_tag": "ABX9TyNqNDb4qtvM4o7eiegxfVLr",
      "include_colab_link": true
    },
    "kernelspec": {
      "name": "python3",
      "display_name": "Python 3"
    },
    "language_info": {
      "name": "python"
    }
  },
  "cells": [
    {
      "cell_type": "markdown",
      "metadata": {
        "id": "view-in-github",
        "colab_type": "text"
      },
      "source": [
        "<a href=\"https://colab.research.google.com/github/imamsyuja22/PBO_Tugas2/blob/main/pbo_class4.ipynb\" target=\"_parent\"><img src=\"https://colab.research.google.com/assets/colab-badge.svg\" alt=\"Open In Colab\"/></a>"
      ]
    },
    {
      "cell_type": "code",
      "execution_count": 8,
      "metadata": {
        "colab": {
          "base_uri": "https://localhost:8080/"
        },
        "id": "7GbJhPE-2rdk",
        "outputId": "eb0907a1-6ee5-4f8f-e9c2-55df27716d58"
      },
      "outputs": [
        {
          "output_type": "stream",
          "name": "stdout",
          "text": [
            "ikan cara bernapas 'insang'\n",
            "kucing cara bernapas 'paru-paru'\n"
          ]
        }
      ],
      "source": [
        "class Hewan:\n",
        "    def __init__(self, nama, napas):\n",
        "        self.nama = nama\n",
        "        self.cara_bernapas = napas  # Atribut\n",
        "\n",
        "    def tampilkan_cara_bernapas(self):  # Ubah nama method\n",
        "        print(f\"{self.nama} cara bernapas '{self.cara_bernapas}'\")"
      ]
    },
    {
      "cell_type": "code",
      "source": [
        "# Membuat objek\n",
        "ikan = Hewan(\"ikan\", \"insang\")\n",
        "kucing = Hewan(\"kucing\", \"paru-paru\")\n",
        "\n",
        "# Memanggil method\n",
        "ikan.tampilkan_cara_bernapas()\n",
        "kucing.tampilkan_cara_bernapas()"
      ],
      "metadata": {
        "id": "1xRd6NxL8wdW"
      },
      "execution_count": null,
      "outputs": []
    }
  ]
}