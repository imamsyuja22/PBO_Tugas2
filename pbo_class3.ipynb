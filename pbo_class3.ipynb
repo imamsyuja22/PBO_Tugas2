{
  "nbformat": 4,
  "nbformat_minor": 0,
  "metadata": {
    "colab": {
      "provenance": [],
      "authorship_tag": "ABX9TyNa0tjETyfgKaie20Qpn939",
      "include_colab_link": true
    },
    "kernelspec": {
      "name": "python3",
      "display_name": "Python 3"
    },
    "language_info": {
      "name": "python"
    }
  },
  "cells": [
    {
      "cell_type": "markdown",
      "metadata": {
        "id": "view-in-github",
        "colab_type": "text"
      },
      "source": [
        "<a href=\"https://colab.research.google.com/github/imamsyuja22/PBO_Tugas2/blob/main/pbo_class3.ipynb\" target=\"_parent\"><img src=\"https://colab.research.google.com/assets/colab-badge.svg\" alt=\"Open In Colab\"/></a>"
      ]
    },
    {
      "cell_type": "code",
      "execution_count": 4,
      "metadata": {
        "colab": {
          "base_uri": "https://localhost:8080/"
        },
        "id": "Ckr3fLhf1QbI",
        "outputId": "5e9ebe06-0f2c-441a-9d95-1c43e6a4d1b7"
      },
      "outputs": [
        {
          "output_type": "stream",
          "name": "stdout",
          "text": [
            "Nama: imam syuja, NIM: 230705144\n",
            "Nama: mithzia ahza imanullah, NIM: 230705134\n",
            "Nama: muzakir, NIM: 230705165\n"
          ]
        }
      ],
      "source": [
        "class Mahasiswa:\n",
        "    def __init__(self, nama, nim):\n",
        "        self.nama = nama\n",
        "        self.nim = nim\n",
        "\n",
        "    def tampilkan_info(self):\n",
        "        print(f\"Nama: {self.nama}, NIM: {self.nim}\")"
      ]
    },
    {
      "cell_type": "code",
      "source": [
        "# Membuat objek\n",
        "mhs1 = Mahasiswa(\"imam syuja\", \"230705144\")\n",
        "mhs2 = Mahasiswa(\"mithzia ahza imanullah\", \"230705134\")\n",
        "mhs3 = Mahasiswa(\"muzakir\", \"230705165\")\n",
        "\n",
        "# Memanggil method\n",
        "mhs1.tampilkan_info()\n",
        "mhs2.tampilkan_info()\n",
        "mhs3.tampilkan_info()"
      ],
      "metadata": {
        "id": "TMugeQni2dcf"
      },
      "execution_count": null,
      "outputs": []
    }
  ]
}