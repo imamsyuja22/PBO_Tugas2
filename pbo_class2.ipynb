{
  "nbformat": 4,
  "nbformat_minor": 0,
  "metadata": {
    "colab": {
      "provenance": [],
      "authorship_tag": "ABX9TyNYexA1KaBTui042hDrBeRl",
      "include_colab_link": true
    },
    "kernelspec": {
      "name": "python3",
      "display_name": "Python 3"
    },
    "language_info": {
      "name": "python"
    }
  },
  "cells": [
    {
      "cell_type": "markdown",
      "metadata": {
        "id": "view-in-github",
        "colab_type": "text"
      },
      "source": [
        "<a href=\"https://colab.research.google.com/github/imamsyuja22/PBO_Tugas2/blob/main/pbo_class2.ipynb\" target=\"_parent\"><img src=\"https://colab.research.google.com/assets/colab-badge.svg\" alt=\"Open In Colab\"/></a>"
      ]
    },
    {
      "cell_type": "code",
      "execution_count": 5,
      "metadata": {
        "id": "XrBr5fXUwyb9"
      },
      "outputs": [],
      "source": [
        "class mobil:\n",
        "  def _init_(self, merk, warna):\n",
        "    self.merk = merk\n",
        "    self.warna = merk"
      ]
    },
    {
      "cell_type": "code",
      "source": [
        "  def nyalakan_mesin(self):\n",
        "        print(f\"Mesin {self.merk} jenis {self.jenis} menyala!\")\n",
        "\n",
        "# Membuat objek\n",
        "mobil_1 = Mobil(\"Toyota\", \"hiace\")\n",
        "mobil_2 = Mobil(\"Honda\", \"accord\")\n",
        "\n",
        "# Memanggil method\n",
        "mobil_1.nyalakan_mesin()\n",
        "mobil_2.nyalakan_mesin()\n"
      ],
      "metadata": {
        "colab": {
          "base_uri": "https://localhost:8080/"
        },
        "id": "ZSgiTAZexUiN",
        "outputId": "a43a41ff-eac3-4a85-d804-11546f599e5c"
      },
      "execution_count": 16,
      "outputs": [
        {
          "output_type": "stream",
          "name": "stdout",
          "text": [
            "Mesin Toyota jenis hiace menyala!\n",
            "Mesin Honda jenis accord menyala!\n"
          ]
        }
      ]
    }
  ]
}