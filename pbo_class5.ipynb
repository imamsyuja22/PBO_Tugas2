{
  "nbformat": 4,
  "nbformat_minor": 0,
  "metadata": {
    "colab": {
      "provenance": [],
      "authorship_tag": "ABX9TyO3y9Pco/pkM/lHc06ZurFp",
      "include_colab_link": true
    },
    "kernelspec": {
      "name": "python3",
      "display_name": "Python 3"
    },
    "language_info": {
      "name": "python"
    }
  },
  "cells": [
    {
      "cell_type": "markdown",
      "metadata": {
        "id": "view-in-github",
        "colab_type": "text"
      },
      "source": [
        "<a href=\"https://colab.research.google.com/github/imamsyuja22/PBO_Tugas2/blob/main/pbo_class5.ipynb\" target=\"_parent\"><img src=\"https://colab.research.google.com/assets/colab-badge.svg\" alt=\"Open In Colab\"/></a>"
      ]
    },
    {
      "cell_type": "code",
      "execution_count": null,
      "metadata": {
        "id": "MCP12lbG5P78"
      },
      "outputs": [],
      "source": [
        "class Kalkulator:\n",
        "    def tambah(self, a, b):\n",
        "        return a + b\n",
        "\n",
        "    def kurang(self, a, b):\n",
        "        return a - b\n",
        "\n",
        "    def kali(self, a, b):\n",
        "        return a * b\n",
        "\n",
        "    def bagi(self, a, b):\n",
        "        if b != 0:\n",
        "            return a / b\n",
        "        else:\n",
        "            return \"Tidak bisa membagi dengan nol!\"\n"
      ]
    },
    {
      "cell_type": "code",
      "source": [
        "#membuat objek\n",
        "calc = Kalkulator()\n",
        "\n",
        "# Memanggil method\n",
        "print(\"Penjumlahan:\", calc.tambah(10, 5))\n",
        "print(\"Pengurangan:\", calc.kurang(10, 5))\n",
        "print(\"Perkalian:\", calc.kali(10, 5))\n",
        "print(\"Pembagian:\", calc.bagi(10, 0))\n"
      ],
      "metadata": {
        "id": "RD6Hq5te84Q0"
      },
      "execution_count": null,
      "outputs": []
    }
  ]
}