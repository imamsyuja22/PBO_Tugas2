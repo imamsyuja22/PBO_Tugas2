{
  "nbformat": 4,
  "nbformat_minor": 0,
  "metadata": {
    "colab": {
      "provenance": [],
      "authorship_tag": "ABX9TyPA7sNrMQU+q/4fOc6iuGs3",
      "include_colab_link": true
    },
    "kernelspec": {
      "name": "python3",
      "display_name": "Python 3"
    },
    "language_info": {
      "name": "python"
    }
  },
  "cells": [
    {
      "cell_type": "markdown",
      "metadata": {
        "id": "view-in-github",
        "colab_type": "text"
      },
      "source": [
        "<a href=\"https://colab.research.google.com/github/imamsyuja22/PBO_Tugas2/blob/main/pbo_class1.ipynb\" target=\"_parent\"><img src=\"https://colab.research.google.com/assets/colab-badge.svg\" alt=\"Open In Colab\"/></a>"
      ]
    },
    {
      "cell_type": "code",
      "execution_count": null,
      "metadata": {
        "id": "vt0dJp1uiJWP"
      },
      "outputs": [],
      "source": [
        "class persegi:\n",
        "  def _init_(self):\n",
        "    self.panjang = 0.0\n",
        "    self.tinggi = 0.0"
      ]
    },
    {
      "cell_type": "code",
      "source": [
        "def main():\n",
        "  object = persegi()\n",
        "  object.panjang = 5\n",
        "  object.tinggi = 5\n",
        "\n",
        "  luas = 0.5*object.panjang*object.tinggi\n",
        "  print(\"luas persegi=%.2f\" % luas)\n",
        "\n",
        "  if __name__==\"__main__\":\n",
        "    main()"
      ],
      "metadata": {
        "id": "8S85ekG1kkfM"
      },
      "execution_count": null,
      "outputs": []
    },
    {
      "cell_type": "code",
      "source": [],
      "metadata": {
        "id": "2cvC63slm8Cq"
      },
      "execution_count": null,
      "outputs": []
    }
  ]
}